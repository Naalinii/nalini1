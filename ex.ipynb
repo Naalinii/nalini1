{
  "nbformat": 4,
  "nbformat_minor": 0,
  "metadata": {
    "colab": {
      "provenance": [],
      "include_colab_link": true
    },
    "kernelspec": {
      "name": "python3",
      "display_name": "Python 3"
    },
    "language_info": {
      "name": "python"
    }
  },
  "cells": [
    {
      "cell_type": "markdown",
      "metadata": {
        "id": "view-in-github",
        "colab_type": "text"
      },
      "source": [
        "<a href=\"https://colab.research.google.com/github/Naalinii/nalini1/blob/main/ex.ipynb\" target=\"_parent\"><img src=\"https://colab.research.google.com/assets/colab-badge.svg\" alt=\"Open In Colab\"/></a>"
      ]
    },
    {
      "cell_type": "code",
      "execution_count": null,
      "metadata": {
        "colab": {
          "base_uri": "https://localhost:8080/"
        },
        "id": "wsSQztRwCNsa",
        "outputId": "e15ce9c2-e9e1-4e26-e322-1c896f3b7c2d"
      },
      "outputs": [
        {
          "output_type": "stream",
          "name": "stdout",
          "text": [
            "digite um valor inteiro4\n",
            "o numero(numero)é par\n"
          ]
        }
      ],
      "source": [
        "numero=int(input(\"digite um valor inteiro\"))\n",
        "if numero%2==0:\n",
        "  print(f\"o numero(numero)é par\")\n",
        "else:\n",
        "  print(f\"o numero(numero)é impar\")\n"
      ]
    },
    {
      "cell_type": "code",
      "source": [
        "import math\n",
        "numero=float(input(\"digite um numero\"))\n",
        "if numero>=0:\n",
        "  raiz_quadrada = math.sqrt(numero)\n",
        "  print(f\"a raiz quadrada de (numero) é (raiz_quadrada:.2f).\")\n",
        "else:\n",
        "  print(\"não existe raiz real para este número\")\n"
      ],
      "metadata": {
        "colab": {
          "base_uri": "https://localhost:8080/"
        },
        "collapsed": true,
        "id": "Bf4pB2XNNsey",
        "outputId": "7ac658a7-711e-4a1e-a780-b8408f207322"
      },
      "execution_count": null,
      "outputs": [
        {
          "output_type": "stream",
          "name": "stdout",
          "text": [
            "digite um numero10\n",
            "a raiz quadrada de (numero) é (raiz_quadrada:.2f).\n"
          ]
        }
      ]
    },
    {
      "cell_type": "code",
      "source": [
        "comprimento = float(input(\"digite o comprimento da camiseta em centimetris:\"))\n",
        "largura = float(input(\"digite a largura da camiseta em centimetros\"))\n",
        "if comprimento <= 60 and largura <= 45:\n",
        "  tamanho=\"pp\"\n",
        "elif comprimento <= 65 and largura <= 48:\n",
        "  tamanho=\"p\"\n",
        "elif comprimento <= 70 and largura <= 51:\n",
        "  tamanho=\"m\"\n",
        "elif comprimento <= 75 and largura <= 54:\n",
        "  tamanho=\"g\"\n",
        "elif comprimento <= 80 and largura <= 57:\n",
        "  tamanho=\"gg\"\n",
        "else:\n",
        "  tamanho = \"xgg\"\n",
        "print(f\"o tamanho da camiseta é {tamanho}.\")"
      ],
      "metadata": {
        "colab": {
          "base_uri": "https://localhost:8080/"
        },
        "id": "Ve3xMaNWPjEC",
        "outputId": "b796773e-6bfd-48c6-d6a4-32dde77c7f9e"
      },
      "execution_count": null,
      "outputs": [
        {
          "output_type": "stream",
          "name": "stdout",
          "text": [
            "digite o comprimento da camiseta em centimetris:50\n",
            "digite a largura da camiseta em centimetros40\n",
            "o tamanho da camiseta é pp.\n"
          ]
        }
      ]
    }
  ]
}