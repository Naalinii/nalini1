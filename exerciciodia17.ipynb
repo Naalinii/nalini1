{
  "nbformat": 4,
  "nbformat_minor": 0,
  "metadata": {
    "colab": {
      "provenance": [],
      "include_colab_link": true
    },
    "kernelspec": {
      "name": "python3",
      "display_name": "Python 3"
    },
    "language_info": {
      "name": "python"
    }
  },
  "cells": [
    {
      "cell_type": "markdown",
      "metadata": {
        "id": "view-in-github",
        "colab_type": "text"
      },
      "source": [
        "<a href=\"https://colab.research.google.com/github/Naalinii/nalini1/blob/main/exerciciodia17.ipynb\" target=\"_parent\"><img src=\"https://colab.research.google.com/assets/colab-badge.svg\" alt=\"Open In Colab\"/></a>"
      ]
    },
    {
      "cell_type": "code",
      "source": [
        "numero = int(input(\"digite um numero inteiro\"))\n",
        "r = numero / 3\n",
        "if r==0:\n",
        "  print(\"numero multiplo de 3\")\n",
        "else:\n",
        "  print(\"numero nao multiplo de 3\")"
      ],
      "metadata": {
        "colab": {
          "base_uri": "https://localhost:8080/"
        },
        "id": "PQsC_v4YKIP0",
        "outputId": "d98ff6fd-8221-451e-a798-4cf8864a890a"
      },
      "execution_count": 16,
      "outputs": [
        {
          "output_type": "stream",
          "name": "stdout",
          "text": [
            "digite um numero inteiro5\n",
            "numero nao multiplo de 3\n"
          ]
        }
      ]
    },
    {
      "cell_type": "code",
      "source": [
        "A= float(input(\"digite um valor\"))\n",
        "B = float(input(\"digite um valor\"))\n",
        "media= (2*A + 3*B)/5\n",
        "if media >= 5:\n",
        "  print(\"aprovado\")\n",
        "else:\n",
        "  print(\"reprovado\")\n"
      ],
      "metadata": {
        "colab": {
          "base_uri": "https://localhost:8080/"
        },
        "id": "xc_jjvvVLl1A",
        "outputId": "fbec7aa6-89a7-4203-d283-ef1b2ab526b1"
      },
      "execution_count": 33,
      "outputs": [
        {
          "output_type": "stream",
          "name": "stdout",
          "text": [
            "digite um valor2\n",
            "digite um valor5\n",
            "reprovado\n"
          ]
        }
      ]
    },
    {
      "cell_type": "code",
      "source": [
        "A = float(input(\"numero A\"))\n",
        "B = float(input(\"digite um valor\"))\n",
        "C = float(input(\"digite um valor\"))\n",
        "if A <= B and A <= C:\n",
        "  print(\"A é o menor valor\")\n",
        "elif B <= A and B <= C:\n",
        "  print(\"B é o menor valor\")\n",
        "else:\n",
        "  print(\"C é o menor valor\")\n",
        "\n",
        "\n"
      ],
      "metadata": {
        "colab": {
          "base_uri": "https://localhost:8080/"
        },
        "id": "4fE9DDseOFZO",
        "outputId": "76eb04d3-d7dc-40a8-ff1d-4646487d585e"
      },
      "execution_count": 31,
      "outputs": [
        {
          "output_type": "stream",
          "name": "stdout",
          "text": [
            "numero A6\n",
            "digite um valor2\n",
            "digite um valor3\n",
            "B é o menor valor\n"
          ]
        }
      ]
    }
  ]
}