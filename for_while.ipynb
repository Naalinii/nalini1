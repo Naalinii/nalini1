{
  "nbformat": 4,
  "nbformat_minor": 0,
  "metadata": {
    "colab": {
      "provenance": [],
      "authorship_tag": "ABX9TyM0HHkxyGszy8pbPnMLUB9h",
      "include_colab_link": true
    },
    "kernelspec": {
      "name": "python3",
      "display_name": "Python 3"
    },
    "language_info": {
      "name": "python"
    }
  },
  "cells": [
    {
      "cell_type": "markdown",
      "metadata": {
        "id": "view-in-github",
        "colab_type": "text"
      },
      "source": [
        "<a href=\"https://colab.research.google.com/github/Naalinii/nalini1/blob/main/for_while.ipynb\" target=\"_parent\"><img src=\"https://colab.research.google.com/assets/colab-badge.svg\" alt=\"Open In Colab\"/></a>"
      ]
    },
    {
      "cell_type": "code",
      "execution_count": 7,
      "metadata": {
        "colab": {
          "base_uri": "https://localhost:8080/"
        },
        "id": "tHvWe4fyGcEn",
        "outputId": "675eb4eb-bd2a-4a92-8051-75eb999e4da8"
      },
      "outputs": [
        {
          "output_type": "stream",
          "name": "stdout",
          "text": [
            "0\n",
            "1\n",
            "2\n",
            "3\n",
            "4\n",
            "5\n",
            "6\n",
            "7\n",
            "8\n",
            "9\n"
          ]
        }
      ],
      "source": [
        "for i in range(10):\n",
        "  print (i)\n"
      ]
    },
    {
      "cell_type": "code",
      "source": [
        "for i in range (0,10,1):\n",
        "  print (i)\n"
      ],
      "metadata": {
        "colab": {
          "base_uri": "https://localhost:8080/"
        },
        "id": "PG4a8LrSKStx",
        "outputId": "9c1682ed-18df-4ce6-db28-cb4eeaebba85"
      },
      "execution_count": 8,
      "outputs": [
        {
          "output_type": "stream",
          "name": "stdout",
          "text": [
            "0\n",
            "1\n",
            "2\n",
            "3\n",
            "4\n",
            "5\n",
            "6\n",
            "7\n",
            "8\n",
            "9\n"
          ]
        }
      ]
    },
    {
      "cell_type": "code",
      "source": [
        "for i in range (0,10):\n",
        "  print (i)"
      ],
      "metadata": {
        "colab": {
          "base_uri": "https://localhost:8080/"
        },
        "id": "iDs3NXC6KzLl",
        "outputId": "0282a738-f76f-48af-ec76-7be317baec76"
      },
      "execution_count": 9,
      "outputs": [
        {
          "output_type": "stream",
          "name": "stdout",
          "text": [
            "0\n",
            "1\n",
            "2\n",
            "3\n",
            "4\n",
            "5\n",
            "6\n",
            "7\n",
            "8\n",
            "9\n"
          ]
        }
      ]
    },
    {
      "cell_type": "code",
      "source": [
        "i=0\n",
        "while i<10:\n",
        "  print (i)\n",
        "  i=i+0.25\n"
      ],
      "metadata": {
        "colab": {
          "base_uri": "https://localhost:8080/"
        },
        "id": "G6-RTOZUK6_N",
        "outputId": "6f0ef1e4-dc9f-4dc0-8f5a-259629a8523c"
      },
      "execution_count": 12,
      "outputs": [
        {
          "output_type": "stream",
          "name": "stdout",
          "text": [
            "0\n",
            "0.25\n",
            "0.5\n",
            "0.75\n",
            "1.0\n",
            "1.25\n",
            "1.5\n",
            "1.75\n",
            "2.0\n",
            "2.25\n",
            "2.5\n",
            "2.75\n",
            "3.0\n",
            "3.25\n",
            "3.5\n",
            "3.75\n",
            "4.0\n",
            "4.25\n",
            "4.5\n",
            "4.75\n",
            "5.0\n",
            "5.25\n",
            "5.5\n",
            "5.75\n",
            "6.0\n",
            "6.25\n",
            "6.5\n",
            "6.75\n",
            "7.0\n",
            "7.25\n",
            "7.5\n",
            "7.75\n",
            "8.0\n",
            "8.25\n",
            "8.5\n",
            "8.75\n",
            "9.0\n",
            "9.25\n",
            "9.5\n",
            "9.75\n"
          ]
        }
      ]
    }
  ]
}